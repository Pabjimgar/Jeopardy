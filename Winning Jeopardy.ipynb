{
 "cells": [
  {
   "cell_type": "markdown",
   "metadata": {
    "collapsed": true
   },
   "source": [
    "# 1.- Jeopardy. Introduction to the Data\n",
    "\n",
    "Jeopardy is a popular TV Show in the US where participants answer questions to win money. It's been running for a few decades, and is a major force in popular culture.\n",
    "\n",
    "Let's say that we are thinking about competing on Jeopardy, and that we want to look for an edge to help us win. This project will examine Jeopardy questions to discover if there is any pattern in the questions that help us win.\n",
    "\n",
    "Our dataset __jeopardy.csv__ contains 20000 rows of Jeopardy questions, with the next additional information:\n",
    "\n",
    "- __Show Number__: Jeopardy episode number where the question was asked.\n",
    "- __Air Date__: The date the episode aired.\n",
    "- __Round__: The round of Jeopardy the question was asked in.\n",
    "- __Category__: The category of the question.\n",
    "- __Value__: The prize a person could get answering the question correctly.\n",
    "- __Question__: Text of the question.\n",
    "- __Answer__: Text of the answer.\n",
    "\n",
    "The dataset is formated in __JSON__ and can be found [here](https://www.reddit.com/r/datasets/comments/1uyd0t/200000_jeopardy_questions_in_a_json_file/).\n",
    "\n",
    "# 2. - Libraries"
   ]
  },
  {
   "cell_type": "code",
   "execution_count": 45,
   "metadata": {
    "collapsed": true
   },
   "outputs": [],
   "source": [
    "import pandas as pd\n",
    "import numpy as np\n",
    "import re\n",
    "from scipy.stats import chisquare"
   ]
  },
  {
   "cell_type": "markdown",
   "metadata": {},
   "source": [
    "# 3.- Importing Data and Normalizing Text"
   ]
  },
  {
   "cell_type": "code",
   "execution_count": 3,
   "metadata": {
    "collapsed": false
   },
   "outputs": [
    {
     "data": {
      "text/html": [
       "<div>\n",
       "<table border=\"1\" class=\"dataframe\">\n",
       "  <thead>\n",
       "    <tr style=\"text-align: right;\">\n",
       "      <th></th>\n",
       "      <th>Show Number</th>\n",
       "      <th>Air Date</th>\n",
       "      <th>Round</th>\n",
       "      <th>Category</th>\n",
       "      <th>Value</th>\n",
       "      <th>Question</th>\n",
       "      <th>Answer</th>\n",
       "    </tr>\n",
       "  </thead>\n",
       "  <tbody>\n",
       "    <tr>\n",
       "      <th>0</th>\n",
       "      <td>4680</td>\n",
       "      <td>2004-12-31</td>\n",
       "      <td>Jeopardy!</td>\n",
       "      <td>HISTORY</td>\n",
       "      <td>$200</td>\n",
       "      <td>For the last 8 years of his life, Galileo was ...</td>\n",
       "      <td>Copernicus</td>\n",
       "    </tr>\n",
       "    <tr>\n",
       "      <th>1</th>\n",
       "      <td>4680</td>\n",
       "      <td>2004-12-31</td>\n",
       "      <td>Jeopardy!</td>\n",
       "      <td>ESPN's TOP 10 ALL-TIME ATHLETES</td>\n",
       "      <td>$200</td>\n",
       "      <td>No. 2: 1912 Olympian; football star at Carlisl...</td>\n",
       "      <td>Jim Thorpe</td>\n",
       "    </tr>\n",
       "    <tr>\n",
       "      <th>2</th>\n",
       "      <td>4680</td>\n",
       "      <td>2004-12-31</td>\n",
       "      <td>Jeopardy!</td>\n",
       "      <td>EVERYBODY TALKS ABOUT IT...</td>\n",
       "      <td>$200</td>\n",
       "      <td>The city of Yuma in this state has a record av...</td>\n",
       "      <td>Arizona</td>\n",
       "    </tr>\n",
       "    <tr>\n",
       "      <th>3</th>\n",
       "      <td>4680</td>\n",
       "      <td>2004-12-31</td>\n",
       "      <td>Jeopardy!</td>\n",
       "      <td>THE COMPANY LINE</td>\n",
       "      <td>$200</td>\n",
       "      <td>In 1963, live on \"The Art Linkletter Show\", th...</td>\n",
       "      <td>McDonald's</td>\n",
       "    </tr>\n",
       "    <tr>\n",
       "      <th>4</th>\n",
       "      <td>4680</td>\n",
       "      <td>2004-12-31</td>\n",
       "      <td>Jeopardy!</td>\n",
       "      <td>EPITAPHS &amp; TRIBUTES</td>\n",
       "      <td>$200</td>\n",
       "      <td>Signer of the Dec. of Indep., framer of the Co...</td>\n",
       "      <td>John Adams</td>\n",
       "    </tr>\n",
       "  </tbody>\n",
       "</table>\n",
       "</div>"
      ],
      "text/plain": [
       "   Show Number    Air Date      Round                         Category  Value  \\\n",
       "0         4680  2004-12-31  Jeopardy!                          HISTORY   $200   \n",
       "1         4680  2004-12-31  Jeopardy!  ESPN's TOP 10 ALL-TIME ATHLETES   $200   \n",
       "2         4680  2004-12-31  Jeopardy!      EVERYBODY TALKS ABOUT IT...   $200   \n",
       "3         4680  2004-12-31  Jeopardy!                 THE COMPANY LINE   $200   \n",
       "4         4680  2004-12-31  Jeopardy!              EPITAPHS & TRIBUTES   $200   \n",
       "\n",
       "                                            Question      Answer  \n",
       "0  For the last 8 years of his life, Galileo was ...  Copernicus  \n",
       "1  No. 2: 1912 Olympian; football star at Carlisl...  Jim Thorpe  \n",
       "2  The city of Yuma in this state has a record av...     Arizona  \n",
       "3  In 1963, live on \"The Art Linkletter Show\", th...  McDonald's  \n",
       "4  Signer of the Dec. of Indep., framer of the Co...  John Adams  "
      ]
     },
     "execution_count": 3,
     "metadata": {},
     "output_type": "execute_result"
    }
   ],
   "source": [
    "jeopardy = pd.read_csv(\"jeopardy.csv\")\n",
    "jeopardy.head()"
   ]
  },
  {
   "cell_type": "markdown",
   "metadata": {},
   "source": [
    "We are going to inspect the columns as they seem to be formatted wrong."
   ]
  },
  {
   "cell_type": "code",
   "execution_count": 4,
   "metadata": {
    "collapsed": false
   },
   "outputs": [
    {
     "data": {
      "text/plain": [
       "Index(['Show Number', ' Air Date', ' Round', ' Category', ' Value',\n",
       "       ' Question', ' Answer'],\n",
       "      dtype='object')"
      ]
     },
     "execution_count": 4,
     "metadata": {},
     "output_type": "execute_result"
    }
   ],
   "source": [
    "jeopardy.columns"
   ]
  },
  {
   "cell_type": "markdown",
   "metadata": {},
   "source": [
    "The name of almost every column has a space at the beginning of the string, so we rename them, and assign the new names to jeopardy.columns to make the change effective. "
   ]
  },
  {
   "cell_type": "code",
   "execution_count": 5,
   "metadata": {
    "collapsed": true
   },
   "outputs": [],
   "source": [
    "jeopardy.columns = ['Show Number', 'Air Date', 'Round', \n",
    "                    'Category', 'Value', 'Question', 'Answer']"
   ]
  },
  {
   "cell_type": "markdown",
   "metadata": {},
   "source": [
    "Before we start doing analysis on the Jeopardy questions of our dataset, we will need to normalize our text columns (__Question__ and __Answer__). To make our later analysis easier we will lowercase words and remove punctuation, so we don't consider similar words to be different.\n",
    "\n",
    "To start, we will write a function *normalize()* that will take in a string, convert it to lowercase, remove all the punctuation and return the new string. Then, we will use it in both of our columns to normalize them."
   ]
  },
  {
   "cell_type": "code",
   "execution_count": 6,
   "metadata": {
    "collapsed": false
   },
   "outputs": [],
   "source": [
    "def normalize_string(string):\n",
    "    string = string.lower()\n",
    "    string = re.sub(\"[^A-Za-z0-9\\s]\", \"\", string)\n",
    "    return string\n",
    "\n",
    "jeopardy[\"clean_question\"] = jeopardy[\"Question\"].apply(normalize_string)\n",
    "jeopardy[\"clean_answer\"] = jeopardy[\"Answer\"].apply(normalize_string)"
   ]
  },
  {
   "cell_type": "markdown",
   "metadata": {},
   "source": [
    "# 4.- Normalizing Numeric Values\n",
    "\n",
    "If we take a look on the __Value__ column, we will see that the values within it begins with a dollar sign($). In order to manipulate this column more easily we are going to take the dollar sign out of it and convert the text to a numeric format.\n",
    "\n",
    "Following the same principle, converting the __Air Date__ column to a datetime can be beneficial in the future, specially if we are going to be using this column for our analysis.\n",
    "\n",
    "On this paragraph, we are going to write a function that cleans our __Value__ column and normalizes it."
   ]
  },
  {
   "cell_type": "code",
   "execution_count": 7,
   "metadata": {
    "collapsed": false
   },
   "outputs": [],
   "source": [
    "def normalize_values(string):\n",
    "    string = re.sub(\"[^A-Za-z0-9\\s]\", \"\", string)\n",
    "    try:\n",
    "        integer = int(string)\n",
    "    except Exception:\n",
    "        integer = 0 \n",
    "    return integer\n",
    "    \n",
    "jeopardy[\"clean_value\"] = jeopardy[\"Value\"].apply(normalize_values)"
   ]
  },
  {
   "cell_type": "markdown",
   "metadata": {},
   "source": [
    "Converting the __Air Date__ column to a datetime type is fairly easy if we use the pandas library's function *pandas.to_datetime*. After it, we are going to check the datatype of all our columns with the *dtype* method."
   ]
  },
  {
   "cell_type": "code",
   "execution_count": 8,
   "metadata": {
    "collapsed": false
   },
   "outputs": [
    {
     "data": {
      "text/plain": [
       "Show Number                int64\n",
       "Air Date          datetime64[ns]\n",
       "Round                     object\n",
       "Category                  object\n",
       "Value                     object\n",
       "Question                  object\n",
       "Answer                    object\n",
       "clean_question            object\n",
       "clean_answer              object\n",
       "clean_value                int64\n",
       "dtype: object"
      ]
     },
     "execution_count": 8,
     "metadata": {},
     "output_type": "execute_result"
    }
   ],
   "source": [
    "jeopardy[\"Air Date\"] = pd.to_datetime(jeopardy[\"Air Date\"])\n",
    "jeopardy.dtypes"
   ]
  },
  {
   "cell_type": "markdown",
   "metadata": {},
   "source": [
    "# 5.- Questions\n",
    "\n",
    "If we want to have a higher success rate, we would have to figure out what it is better to study, past questions or general knowledge and to that end, answering the following would be beneficial:\n",
    "\n",
    "- How often is the answer deducible from the question?\n",
    "- How often are new questions just an older one repeated?\n",
    "\n",
    "To answer our second question we can look up at how often complex words with more than 6 characters occur, and answer the first one by seeing how many times words in the answer are contained in the question too.\n",
    "\n",
    "Let's begin by answering the first question by writing a function that counts how many times the terms in __clean_answer__ occur in __clean_question__."
   ]
  },
  {
   "cell_type": "code",
   "execution_count": 14,
   "metadata": {
    "collapsed": false
   },
   "outputs": [],
   "source": [
    "def count_matches(row):\n",
    "    split_answer = row[\"clean_answer\"].split(\" \")\n",
    "    split_question = row[\"clean_question\"].split(\" \")\n",
    "    match_count = 0 \n",
    "    if \"the\" in split_answer:\n",
    "        split_answer.remove(\"the\")\n",
    "    if len(split_answer) == 0:\n",
    "        return 0 \n",
    "    for i in split_answer:\n",
    "        if i in split_question:\n",
    "            match_count += 1\n",
    "    return match_count/len(split_answer)"
   ]
  },
  {
   "cell_type": "code",
   "execution_count": 15,
   "metadata": {
    "collapsed": false
   },
   "outputs": [
    {
     "data": {
      "text/plain": [
       "0.060493257069335872"
      ]
     },
     "execution_count": 15,
     "metadata": {},
     "output_type": "execute_result"
    }
   ],
   "source": [
    "answer_in_question = jeopardy.apply(count_matches, axis = 1)\n",
    "answer_in_question.mean()"
   ]
  },
  {
   "cell_type": "markdown",
   "metadata": {},
   "source": [
    "Our results tell us that the answer only appears in the question about a 6% of the time. Relying on hearing a question to try to figure out its possible answer is reckless, and therefore, we will need to analyze how often they are repeated.\n",
    "\n",
    "This question won't be totally answered in this study due to our dataset having only about 10% of the full Jeopardy dataset, but at least can be investigated, and the methodology to use with the full dataset would be identical to the one exposed below.\n",
    "\n",
    "The steps needed to solve this problem are:\n",
    "\n",
    "- Sorting our dataset in order of ascending air date.\n",
    "- Create an empty set called terms_used.\n",
    "- Iterate through each row of our dataset, jeopardy.\n",
    "- Split __clean_question__ into words, remove any word shorter than 6 characters and check if those words occur in terms_used:\n",
    "    - if it does, increment a counter.\n",
    "    - add each word to terms_used.\n",
    "  \n",
    "This will help us to check if the terms in questions have been used previously or not. Filtering by long words will allow us to ignore words used regularly like the and than, which are commonly used but don't provide useful information about the question."
   ]
  },
  {
   "cell_type": "code",
   "execution_count": 18,
   "metadata": {
    "collapsed": false
   },
   "outputs": [
    {
     "data": {
      "text/plain": [
       "0.69087373156719623"
      ]
     },
     "execution_count": 18,
     "metadata": {},
     "output_type": "execute_result"
    }
   ],
   "source": [
    "question_overlap = []\n",
    "terms_used = set()\n",
    "for i,row in jeopardy.iterrows():\n",
    "    split_question = row[\"clean_question\"].split(\" \")\n",
    "    split_question = [q for q in split_question if len(q)>5]\n",
    "    match_count = 0 \n",
    "    for word in split_question:\n",
    "        if word in terms_used:\n",
    "            match_count += 1\n",
    "    for word in split_question:\n",
    "        terms_used.add(word)\n",
    "    if len(split_question) > 0:\n",
    "        match_count/=len(split_question)\n",
    "    question_overlap.append(match_count)\n",
    "\n",
    "jeopardy[\"question_overlap\"] = question_overlap\n",
    "jeopardy[\"question_overlap\"].mean()"
   ]
  },
  {
   "cell_type": "markdown",
   "metadata": {
    "collapsed": true
   },
   "source": [
    "This means that there are close to 70% overlap between terms in new questions and old questions. Due to the size of our dataset, our function doesn't look at whole phrases but at single terms. While this is not completely significant, it tells us that looking into old questions has a higher value than just trying to figure out the response out of the question.\n",
    "\n",
    "# 6.- Low Value Vs High Value Questions\n",
    "\n",
    "Let's now imagine that we want to study those questions whose value is among the highest values to help us win more money.\n",
    "\n",
    "We can model this question, and find out which terms correspond to high-value questions using a chi-squared test if we narrow down our questions into 2 categories: __Low value__(<800) and __High value__(>800).\n",
    "\n",
    "Once this it's been accomplished we can loop through __terms_used__ and implement a function that does the following:\n",
    "\n",
    "- Find the number of low value questions a word occurs in.\n",
    "- Find the number of high value questions a word occurs in.\n",
    "- Find the percentage of questions a word occurs in.\n",
    "- Based on the percentage of questions the word occurs in, find expected counts.\n",
    "- Compute the chi squared value based on the expected counts and the observed counts for high and low value questions.\n",
    "\n",
    "We could then find the words with the biggest differences in usage between high and low value questions, by selecting the words with the highest associated chi-squared values. \n",
    "\n",
    "First, we will create a function that assigns 1 to all those rows with a __clean_value__ higher than 800 and 0 otherwise. "
   ]
  },
  {
   "cell_type": "code",
   "execution_count": 20,
   "metadata": {
    "collapsed": true
   },
   "outputs": [],
   "source": [
    "def high_or_low_value(row):\n",
    "    value = 0\n",
    "    if row[\"clean_value\"] > 800:\n",
    "        value = 1\n",
    "    return value"
   ]
  },
  {
   "cell_type": "markdown",
   "metadata": {},
   "source": [
    "Now, we are going to determine which questions are high and low value using the *pandas.apply()* method and assing it to the __high_value__ column."
   ]
  },
  {
   "cell_type": "code",
   "execution_count": 25,
   "metadata": {
    "collapsed": false
   },
   "outputs": [],
   "source": [
    "jeopardy[\"high value\"] = jeopardy.apply(high_or_low_value, axis = 1)"
   ]
  },
  {
   "cell_type": "markdown",
   "metadata": {},
   "source": [
    "For our next step, we will define a new function that returns the numbers of times a word has been used for high and low value."
   ]
  },
  {
   "cell_type": "code",
   "execution_count": 42,
   "metadata": {
    "collapsed": true
   },
   "outputs": [],
   "source": [
    "def count_usage(word):\n",
    "    low_count = 0 \n",
    "    high_count = 0 \n",
    "    for i,row in jeopardy.iterrows():\n",
    "        if word in row[\"clean_question\"].split(\" \"):\n",
    "            if row[\"high value\"] == 1:\n",
    "                high_count += 1\n",
    "            else:\n",
    "                low_count += 1\n",
    "    return high_count, low_count"
   ]
  },
  {
   "cell_type": "markdown",
   "metadata": {},
   "source": [
    "We should be able to find the words with the biggest differences in usage between high and low value questions, by selecting the words with the highest associated chi-squared values. Doing this for all the words would take forever, so we are going to experiment with a few rows for now."
   ]
  },
  {
   "cell_type": "code",
   "execution_count": 44,
   "metadata": {
    "collapsed": false
   },
   "outputs": [
    {
     "data": {
      "text/plain": [
       "[(0, 1), (2, 2), (1, 1), (1, 3), (3, 0)]"
      ]
     },
     "execution_count": 44,
     "metadata": {},
     "output_type": "execute_result"
    }
   ],
   "source": [
    "comparison_terms = list(terms_used)[:5]\n",
    "observed_expected = []\n",
    "\n",
    "for i in comparison_terms:\n",
    "    observed_expected.append(count_usage(i))\n",
    "\n",
    "observed_expected"
   ]
  },
  {
   "cell_type": "markdown",
   "metadata": {},
   "source": [
    "# 7.- Applying the Chi-Squared Test\n",
    "\n",
    "We are going to find those rows whose __high value__ is 1 and those whose value is 0 and create a new list called chi_squared, that we will use to estimate the chi-squared and p-values given the observed an expected counts."
   ]
  },
  {
   "cell_type": "code",
   "execution_count": 51,
   "metadata": {
    "collapsed": false
   },
   "outputs": [
    {
     "data": {
      "text/plain": [
       "[Power_divergenceResult(statistic=0.40196284612688399, pvalue=0.52607729857054686),\n",
       " Power_divergenceResult(statistic=0.88975496332255899, pvalue=0.34554371914834681),\n",
       " Power_divergenceResult(statistic=0.44487748166127949, pvalue=0.50477764875459963),\n",
       " Power_divergenceResult(statistic=0.026364433084407689, pvalue=0.87101348468892104),\n",
       " Power_divergenceResult(statistic=7.4633763515870246, pvalue=0.0062966796687489992)]"
      ]
     },
     "execution_count": 51,
     "metadata": {},
     "output_type": "execute_result"
    }
   ],
   "source": [
    "high_value_count = jeopardy[jeopardy[\"high value\"] == 1].shape[0]\n",
    "low_value_count = jeopardy[jeopardy[\"high value\"] == 0].shape[0]\n",
    "\n",
    "chi_squared = []\n",
    "for lista in observed_expected:\n",
    "    total = sum(lista)\n",
    "    total_prop = total/jeopardy.shape[0]\n",
    "    expected_high = total_prop * high_value_count\n",
    "    expected_low = total_prop * low_value_count\n",
    "    \n",
    "    observed = np.array([lista[0], lista[1]])\n",
    "    expected = np.array([expected_high, expected_low])\n",
    "    chi_squared.append(chisquare(observed, expected))\n",
    "\n",
    "chi_squared"
   ]
  }
 ],
 "metadata": {
  "kernelspec": {
   "display_name": "Python 3",
   "language": "python",
   "name": "python3"
  },
  "language_info": {
   "codemirror_mode": {
    "name": "ipython",
    "version": 3
   },
   "file_extension": ".py",
   "mimetype": "text/x-python",
   "name": "python",
   "nbconvert_exporter": "python",
   "pygments_lexer": "ipython3",
   "version": "3.4.3"
  }
 },
 "nbformat": 4,
 "nbformat_minor": 0
}
